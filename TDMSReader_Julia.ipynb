{
 "cells": [
  {
   "cell_type": "markdown",
   "metadata": {},
   "source": [
    "# TDMS Reader for Julia\n",
    "\n",
    "Author(s): *Martin Fränzl*\n",
    "\n",
    "IMPORTANT: The TDMSReader package supports TDMS version 2.0 only."
   ]
  },
  {
   "cell_type": "code",
   "execution_count": 180,
   "metadata": {},
   "outputs": [],
   "source": [
    "using TDMSReader\n",
    "\n",
    "function analyzeTDMS(file)\n",
    "    # Print properties and channels of TDMS file\n",
    "    tdms_file = TDMSReader.readtdms(file)\n",
    "    println(\"Properties (Root):\")\n",
    "    for (name, value) in tdms_file.props\n",
    "        println(\"  \", \"$name: $value\")\n",
    "    end\n",
    "    for (group_name, group) in tdms_file.groups\n",
    "        println(\"\\\"\", group_name, \"\\\"\")\n",
    "        println(\"  Properties (\\\"\", group_name, \"\\\")\")\n",
    "        for (name, value) in group.props\n",
    "            println(\"  \", \"$prop_key: $prop\")\n",
    "        end\n",
    "        for (channel_name, channel) in group.channels\n",
    "            println(\"  \", channel_name)\n",
    "        end\n",
    "    end\n",
    "end;\n",
    "\n",
    "function loadTDMS_Video(file)\n",
    "    tdms_file = TDMSReader.readtdms(file)\n",
    "    props = tdms_file.props\n",
    "    p = Dict(\n",
    "        \"dimx\" => parse(Int, props[\"dimx\"]),\n",
    "        \"dimy\" => parse(Int, props[\"dimy\"]),\n",
    "        \"frames\" => parse(Int, props[\"dimz\"]),\n",
    "        \"binning\" => parse(Int, props[\"binning\"]),\n",
    "        \"exposure_time\" => parse(Float64, props[\"exposure\"]),\n",
    "        #\"framerate\" => parse(Float64, props[\"framerate\"]),\n",
    "    )\n",
    "    images = permutedims(reshape(tdms_file[\"Image\"][\"Image\"].data, p[\"dimx\"], p[\"dimy\"], p[\"frames\"]), [3, 2, 1])\n",
    "    return images, p\n",
    "end;"
   ]
  },
  {
   "cell_type": "code",
   "execution_count": 181,
   "metadata": {},
   "outputs": [],
   "source": [
    "#permutedims(images, [2, 3, 1])"
   ]
  },
  {
   "cell_type": "code",
   "execution_count": 182,
   "metadata": {},
   "outputs": [],
   "source": [
    "#analyzeTDMS(\"72/Data/Martin/TDMS_Tests/Set_001_video.tdms\")"
   ]
  },
  {
   "cell_type": "code",
   "execution_count": 183,
   "metadata": {},
   "outputs": [],
   "source": [
    "images, p = loadTDMS_Video(\"72/Data/Martin/TDMS_Tests/Set_001_video.tdms\");"
   ]
  },
  {
   "cell_type": "code",
   "execution_count": 184,
   "metadata": {},
   "outputs": [
    {
     "data": {
      "text/plain": [
       "(1000, 512, 512)"
      ]
     },
     "execution_count": 184,
     "metadata": {},
     "output_type": "execute_result"
    }
   ],
   "source": [
    "size(images)"
   ]
  },
  {
   "cell_type": "code",
   "execution_count": 185,
   "metadata": {},
   "outputs": [
    {
     "data": {
      "text/plain": [
       "(512, 512)"
      ]
     },
     "execution_count": 185,
     "metadata": {},
     "output_type": "execute_result"
    }
   ],
   "source": [
    "size(images[1,:,:])"
   ]
  },
  {
   "cell_type": "code",
   "execution_count": 177,
   "metadata": {},
   "outputs": [],
   "source": [
    "using ImageView"
   ]
  },
  {
   "cell_type": "code",
   "execution_count": 186,
   "metadata": {},
   "outputs": [],
   "source": [
    "#using Colors"
   ]
  },
  {
   "cell_type": "code",
   "execution_count": 187,
   "metadata": {},
   "outputs": [
    {
     "data": {
      "image/png": "[encoded data removed]",
      "text/plain": [
       "512×512 Array{Gray{Float64},2} with eltype Gray{Float64}:\n",
       " Gray{Float64}(0.0121118)  …  Gray{Float64}(0.0116189)\n",
       " Gray{Float64}(0.011971)      Gray{Float64}(0.0117597)\n",
       " Gray{Float64}(0.0117597)     Gray{Float64}(0.0121118)\n",
       " Gray{Float64}(0.0113372)     Gray{Float64}(0.0133089)\n",
       " Gray{Float64}(0.0116189)     Gray{Float64}(0.0109851)\n",
       " Gray{Float64}(0.0109851)  …  Gray{Float64}(0.0123231)\n",
       " Gray{Float64}(0.0111964)     Gray{Float64}(0.0121822)\n",
       " Gray{Float64}(0.0118302)     Gray{Float64}(0.0119006)\n",
       " Gray{Float64}(0.0125343)     Gray{Float64}(0.0117597)\n",
       " Gray{Float64}(0.0115485)     Gray{Float64}(0.0123935)\n",
       " Gray{Float64}(0.0126047)  …  Gray{Float64}(0.0116893)\n",
       " Gray{Float64}(0.0121822)     Gray{Float64}(0.0107739)\n",
       " Gray{Float64}(0.0127456)     Gray{Float64}(0.0116893)\n",
       " ⋮                         ⋱  \n",
       " Gray{Float64}(0.0133793)  …  Gray{Float64}(0.0118302)\n",
       " Gray{Float64}(0.0122527)     Gray{Float64}(0.011126)\n",
       " Gray{Float64}(0.0117597)     Gray{Float64}(0.0126047)\n",
       " Gray{Float64}(0.0117597)     Gray{Float64}(0.011971)\n",
       " Gray{Float64}(0.0122527)     Gray{Float64}(0.011126)\n",
       " Gray{Float64}(0.012816)   …  Gray{Float64}(0.0114076)\n",
       " Gray{Float64}(0.012816)      Gray{Float64}(0.011126)\n",
       " Gray{Float64}(0.0123935)     Gray{Float64}(0.0113372)\n",
       " Gray{Float64}(0.0124639)     Gray{Float64}(0.0116189)\n",
       " Gray{Float64}(0.0123935)     Gray{Float64}(0.0119006)\n",
       " Gray{Float64}(0.0118302)  …  Gray{Float64}(0.0123231)\n",
       " Gray{Float64}(0.0121822)     Gray{Float64}(0.0118302)"
      ]
     },
     "execution_count": 187,
     "metadata": {},
     "output_type": "execute_result"
    }
   ],
   "source": [
    "Gray.(images[1,:,:]/maximum(images))"
   ]
  },
  {
   "cell_type": "code",
   "execution_count": null,
   "metadata": {},
   "outputs": [],
   "source": []
  }
 ],
 "metadata": {
  "kernelspec": {
   "display_name": "Julia 1.5.2",
   "language": "julia",
   "name": "julia-1.5"
  },
  "language_info": {
   "file_extension": ".jl",
   "mimetype": "application/julia",
   "name": "julia",
   "version": "1.5.2"
  }
 },
 "nbformat": 4,
 "nbformat_minor": 4
}
